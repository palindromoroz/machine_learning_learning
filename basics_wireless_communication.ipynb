{
 "cells": [
  {
   "cell_type": "code",
   "execution_count": null,
   "metadata": {},
   "outputs": [],
   "source": [
    "import numpy as np\n",
    "%matplotlib inline\n",
    "import matplotlib.pyplot as plt"
   ]
  },
  {
   "cell_type": "markdown",
   "metadata": {},
   "source": [
    "# Basics of the Wireless Communication\n",
    "In order to explain the basics of the wireless communication we will try to build a mock-up mobile communication system from scratch. The simple system should transmit some data from a transmiting station to a handheld device. Some basic constraints we set will be:\n",
    "\n",
    "- the power that we use at the transmitting device is $P_{tx}=1W$\n",
    "- the receiving device is at the distance of $d=1000m$\n"
   ]
  },
  {
   "cell_type": "code",
   "execution_count": null,
   "metadata": {},
   "outputs": [],
   "source": [
    "d=1000  # m - the distance from the base station to the receiving device\n",
    "P_tx=1  # W - the power used in the transmitting device"
   ]
  },
  {
   "cell_type": "markdown",
   "metadata": {},
   "source": [
    "## History\n",
    "The phenomenon that electromagnetic waves propagate through free space was already observed in 18th century and mathematically descibed by James Maxwell in 1864. This phenomenon was further explored by many scientists trying to use it for power transmission and communication. In 1894 the British physicist Oliver Lodge showed he can transmit and receive the electromagnetic waves at distances up to 50 meters. The inventor Guglielmo Marconi worked on the the idea of building a wireless telegraphy system, gained a patent on the system in 1896 and developed it into a commercial communication system over the next few years."
   ]
  },
  {
   "cell_type": "markdown",
   "metadata": {},
   "source": [
    "## Antenna\n",
    "\n",
    "It is rather simple to make a device that will transmit the electromagnetic waves into the air. An AC voltage source connected to a pair of wires known and the \"dipole antenna\" will do the trick. The same dipole antenna can be used also to recieve the electromagnetic waves at some distance and convert them back into the electrical signals.\n",
    "\n",
    "![alt text](images/Dipole_antenna.gif)\n",
    "\n",
    "\n",
    "In practice only a part of the used electrical power will be converted into the electromagnetic waves. The actual power we get into the air can be denoted by $e_{antenna}P_{tx}$ where $e_{antenna}$ is a constant between 0 and 1 that describes the efficiency of the antenna to convert the electrical signal into the electromagmetic waves.\n",
    "\n",
    "An efficient dipole anteanna with $e_{antenna}$ close to $1$ can be realized if the length of the dipole is $\\lambda/2$ where $\\lambda$ is the wavelength of the electromagnetic wave. For typical sinusidual wave of frequency $f_0$ the wavelength is calculated as $\\lambda=c/f_0$."
   ]
  },
  {
   "cell_type": "code",
   "execution_count": null,
   "metadata": {},
   "outputs": [],
   "source": [
    "c   = 299792458 # m/s - speed of light (and the electromagnetic wave propagation) \n",
    "f_0 = 1e9       # Hz - operating frequeincy or the carrier frequency\n",
    "Lambda = c/f_0  # m - wavelenght\n",
    "print(\"Signal half wavelenght = {0:0.2f} cm\".format(100*Lambda/2))"
   ]
  },
  {
   "cell_type": "markdown",
   "metadata": {},
   "source": [
    "Besides the dipole there are many ways for designing antennas but a rule of thumb is that the antenna physiscal size should be close to $\\lambda/2$. As one of the requirements is to have a handheld device this will put some constraints on the wave frequencies we can use. For example for $f_0=1GHz$ we get $\\lambda/2\\approx 15cm$ which is approximatelly the size of a normal handheld device. Having lower frequencies would probably result in inefficient antennas. The efficiency \n",
    "\n",
    "Having efficient antennas integrated into the mobile phones is actually one of the toughest design challenges of the phone manufactureres. Here are some examples of vary clever designs where anteannas are integrated in the phone rim and the back cover.\n",
    "\n",
    "![alt text](images/Phone_antenna.jpg)\n"
   ]
  },
  {
   "cell_type": "markdown",
   "metadata": {},
   "source": [
    "## Power estimation\n",
    "\n",
    "The total power spent in the transmiter $P_{tx}$ is also influenced by the electronic. Additional efficiency factor $e_{electronics}$ is added as a constant between $0$ and $1$ that describes the efficiency of the electronics used to generate the signals.\n",
    "\n",
    "If the antenna is transmitting uniformly in all directions the radiated power will be distributed uniformly over a sphere and we can calculate the power density at distance $d$ as:\n",
    "\n",
    "$$\\frac{e_{electronics}e_{antenna}P_{tx}}{4\\pi d^2} [W/m^2]$$\n",
    "\n",
    "This is bad as the energy is getting spread over a large area. But it gets even worse as a small mobile device antenna will gather the power only form a small part of the space. \n",
    "\n",
    "One way to describe the receiver antenna efficiency is by sa called antenna effective area denoted as $A_{rx}$ which is typically smaller than the physical size. Using this generalization a simple formula to calculate the received power is: \n",
    "\n",
    "$$ P_{rx}= A_{rx} \\frac{e_{electronics}e_{antenna}P_{tx}}{4\\pi d^2}$$\n",
    "\n",
    "We can put some realistic numbers to get an estimate of the transmitted power for our case. We set $e_{tx}=e_{electronics}e_{antenna}=0.5*0.5$ and $A_{rx}=0.1m*0.1m = 0.01m^2$."
   ]
  },
  {
   "cell_type": "code",
   "execution_count": null,
   "metadata": {},
   "outputs": [],
   "source": [
    "e_tx=0.5*0.5 # efficiency of the transmitter\n",
    "A_rx=0.1*0.1 # m2 -receiver antenna effective area\n",
    "\n",
    "P_rx=A_rx*e_tx*P_tx/(4*np.pi*d**2)\n",
    "\n",
    "print(\"Received signal power = {} W\".format(P_rx))"
   ]
  },
  {
   "cell_type": "markdown",
   "metadata": {},
   "source": [
    "This is very small power and would be useless as a power source. However, if we somehow embbed some information in the signal than the modern electronics would be able to detect the signal and extract the information easily as we will show next.\n",
    "\n",
    "The simplified calculation did not take into account directiveness of the antennas which can be described as an additional antenna gain factor. Also we did not take the attenuation of the signals in the air:   \n",
    "\n",
    "![alt text](images/Atmospheric_electromagnetic_opacity.svg)\n"
   ]
  },
  {
   "cell_type": "markdown",
   "metadata": {},
   "source": [
    "## Milimeter Waves\n",
    "\n",
    "For very high frequencies the wavelength becomes short, in the range of milimeters, and the antennas can be small. For example for 60 GHz frequency the wavelength becomes 5mm. Here is an image of an antenna array inteneded for 60GHz operation with 12 antennas:\n",
    "\n",
    "![alt text](images/mmWave_antenna.jpg)\n",
    "\n",
    "Having small antennas is very usefull and enables various multientenna processing solutions. However, working with the high frequency signals becomes challenging for designing electronics. In addition, the attenuation in the air becomes worse at the higher frequencies. Finally, the milimeter waves will not pass through most of the materials, e.g. building walls and also get reflected easily making design of a communication system quite different.\n"
   ]
  },
  {
   "cell_type": "markdown",
   "metadata": {},
   "source": [
    "## Signal modulation \n",
    "\n",
    "Having covered the basics of electomagnetic waves we also calcualted that the power level at the receiver will be extremely low. Next we will try to use this low power signal for transfering some information. We will start immediately with digital information in form of bits which we want to somehow embbed into the signal. "
   ]
  },
  {
   "cell_type": "code",
   "execution_count": null,
   "metadata": {},
   "outputs": [],
   "source": [
    "# generate some random data\n",
    "bits = np.random.binomial(n=1, p=0.5, size=512)\n",
    "print('Number of bits : {} , the first 4 bits: {}'.format(len(bits),bits[0:4]))"
   ]
  },
  {
   "cell_type": "markdown",
   "metadata": {},
   "source": [
    "Embedding the information is done by changing or modulating the signal usualy called signal modulation. In our case we will try the simplest form of modulation where we just multiply the signal by the bits. This is also known as \"on-off keying\". Let the duration of each bit will deterine the speed of communication."
   ]
  },
  {
   "cell_type": "code",
   "execution_count": null,
   "metadata": {},
   "outputs": [],
   "source": [
    "T=10*1e-9     # s - duration of one bit during transmission\n",
    "print('Communcation speed: {} Mbits/s'.format(1e-6/T))\n",
    "\n",
    "Ts=1/(4*f_0)  # s - sampling period in seconds - high sampling rate for visualization purposes\n",
    "\n",
    "# generate the modulated signal\n",
    "s_tx = lambda t: bits[np.floor_divide(t,T).astype('int')]*np.cos(2*np.pi*f_0*t)\n",
    "\n",
    "# show the first 4 bits\n",
    "t=np.arange(0,4*T,Ts)\n",
    "plt.plot(t*1e9,s_tx(t))\n",
    "plt.xlabel('Time[ns]')\n",
    "plt.title('Modulated signal - the first 4 bits: {}'.format(bits[0:4]))\n",
    "plt.show()"
   ]
  },
  {
   "cell_type": "markdown",
   "metadata": {},
   "source": [
    "## Modelling the Recieved Signal\n",
    "\n",
    "The transmitted signal will be arrive atennuated at the receiver. It will also be corrupted by various noise and interference sources. In ideal case we will have only the noise of the electronics of the receiver. A clever design of the receiver will limit the noise only to the thermal noise. Assuming that we properly filter the signal and sample with time interval $T_s$ we can approximate the thermal noise and the received signal as:"
   ]
  },
  {
   "cell_type": "code",
   "execution_count": null,
   "metadata": {},
   "outputs": [],
   "source": [
    "kB = 1.3806488e-23  #J/K - Boltzmann constant - particle energy with temperature\n",
    "Ta = 273+50         # K  - temperature of the electronics\n",
    "\n",
    "P_thermal_noise=4*kB*Ta*1/Ts\n",
    "\n",
    "SNR=P_rx/P_thermal_noise\n",
    "\n",
    "s_rx=lambda t: s_tx(t)+np.sqrt(0.5/SNR)*np.random.randn(len(t))\n",
    "\n",
    "# show the first 4 bits\n",
    "t=np.arange(0,4*T,Ts)\n",
    "plt.plot(t*1e9,s_rx(t))\n",
    "plt.xlabel('Time[ns]')\n",
    "plt.title('Modulated signal - the first 4 bits: {}'.format(bits[0:4]))\n",
    "plt.show()"
   ]
  },
  {
   "cell_type": "markdown",
   "metadata": {},
   "source": [
    "## Detection\n",
    "\n",
    "Next step is to try to extract the embedded information from the noisy signal. Optimal detection for our signal will be achieved if we can generate a sinusoidal signal in the receiver which is perfectly alligned with the signal used in the transmitter.\n",
    "\n",
    "The received signal is typically first multiplied by the locally generated sinusodal signal using analog ciscuits. We can model this as below:"
   ]
  },
  {
   "cell_type": "code",
   "execution_count": null,
   "metadata": {},
   "outputs": [],
   "source": [
    "# assumptions on the receiver generated sinusoidal signal\n",
    "f_rx=f_0\n",
    "phase_rx=0\n",
    "\n",
    "s_rx_dem=lambda t: s_tx(t)*np.cos(2*np.pi*f_rx*t+phase_rx)+np.sqrt(0.5/SNR)*np.random.randn(len(t))\n",
    "\n",
    "# show the first 4 bits\n",
    "t=np.arange(0,4*T,Ts)\n",
    "plt.plot(t*1e9,s_rx_dem(t))\n",
    "plt.xlabel('Time[ns]')\n",
    "plt.title('Demodulated signal - the first 4 bits: {}'.format(bits[0:4]))\n",
    "plt.show()"
   ]
  },
  {
   "cell_type": "markdown",
   "metadata": {},
   "source": [
    "As we decided to to oversample the signal we can then also average the samples that should belong to the same bit. Averaging is a form of a digital low pass flter. Note that we now also need to have the bit timing also alligned with the transmitter."
   ]
  },
  {
   "cell_type": "code",
   "execution_count": null,
   "metadata": {},
   "outputs": [],
   "source": [
    "N_oversampling = np.round(T/Ts).astype('int')\n",
    "bitsE=lambda t: np.mean(s_rx_dem(t).reshape(-1,N_oversampling),axis=1)\n",
    "\n",
    "# show the first 4 bits\n",
    "t=np.arange(0,4*T,Ts)\n",
    "plt.plot(t*1e9,s_rx_dem(t))\n",
    "plt.plot(t[N_oversampling//2::N_oversampling]*1e9,bitsE(t),'o')\n",
    "plt.xlabel('Time[ns]')\n",
    "plt.title('Demodulated signal - the first 4 bits: {} and values {}'.format(bits[0:4],bitsE(t)))\n",
    "plt.show()"
   ]
  },
  {
   "cell_type": "markdown",
   "metadata": {},
   "source": [
    "Now lets simulate this for many bits and see how the values for the bits are distributed."
   ]
  },
  {
   "cell_type": "code",
   "execution_count": null,
   "metadata": {},
   "outputs": [],
   "source": [
    "res=bitsE(np.arange(0,len(bits)*T,Ts))\n",
    "\n",
    "plt.hist(res[bits==1],density=True)\n",
    "plt.hist(res[bits==0],density=True)\n",
    "plt.show()\n",
    "\n",
    "print(\"sigma = {}, sigma estimated = {}\".format(np.sqrt(0.5/(N_oversampling*SNR)),np.std(res[bits==1])))"
   ]
  },
  {
   "cell_type": "markdown",
   "metadata": {},
   "source": [
    "## Bit Error Rate\n",
    "\n",
    "As seen above, depending on the noise, some bits might be misinterpreted and flipped at the receiver. The probablioty of the error, also known as BER (Bit Error Rate) is calculated as:\n",
    "\n",
    "$$p_{error}=p(0|1)p_1+p(1|0)p_0$$\n",
    "\n",
    "In typical random data the probability of a bit being a zero or one is equal $p_1=p_0=0.5$.\n",
    "\n",
    "In out case the result can be approximated by a Gaussian function and the BER calculated as:\n",
    "\n",
    "$$p_{error}=0.5 erfc(\\sqrt{SNR})$$"
   ]
  },
  {
   "cell_type": "code",
   "execution_count": null,
   "metadata": {},
   "outputs": [],
   "source": [
    "import scipy.special as sc\n",
    "\n",
    "p_error=0.5*sc.erfc(np.sqrt(N_oversampling*SNR)/4)\n",
    "\n",
    "print(\"Bit error rate = {}\".format(p_error))"
   ]
  },
  {
   "cell_type": "markdown",
   "metadata": {},
   "source": [
    "As we saw above the singal to noise ratio will be inversly proportional to the communication speed. Longer bits and slower communication will lead to better signal to noise ratios."
   ]
  },
  {
   "cell_type": "code",
   "execution_count": null,
   "metadata": {},
   "outputs": [],
   "source": [
    "B = np.linspace(5*10**7,10**8,100)\n",
    "p_error=0.5*sc.erfc(np.sqrt(N_oversampling*SNR/(T*B))/4)\n",
    "\n",
    "fig, ax = plt.subplots()\n",
    "plt.plot( B/10**6, p_error )\n",
    "ax.set_yscale('log')\n",
    "plt.xlabel('Mbits/s')\n",
    "plt.ylabel('bit error rate')\n",
    "plt.show()"
   ]
  }
 ],
 "metadata": {
  "kernelspec": {
   "display_name": "Python 3",
   "language": "python",
   "name": "python3"
  },
  "language_info": {
   "codemirror_mode": {
    "name": "ipython",
    "version": 3
   },
   "file_extension": ".py",
   "mimetype": "text/x-python",
   "name": "python",
   "nbconvert_exporter": "python",
   "pygments_lexer": "ipython3",
   "version": "3.6.4"
  }
 },
 "nbformat": 4,
 "nbformat_minor": 2
}
