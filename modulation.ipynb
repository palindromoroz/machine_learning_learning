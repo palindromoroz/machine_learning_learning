{
 "cells": [
  {
   "cell_type": "code",
   "execution_count": null,
   "metadata": {},
   "outputs": [],
   "source": [
    "%matplotlib inline\n",
    "import matplotlib.pyplot as plt\n",
    "import matplotlib.patches as patches\n",
    "import numpy as np"
   ]
  },
  {
   "cell_type": "markdown",
   "metadata": {},
   "source": [
    "## Frequency Domain and Frequency Sharing\n",
    "\n",
    "Lets repeat the example from the previous lecture where we set some parameters as follows:"
   ]
  },
  {
   "cell_type": "code",
   "execution_count": null,
   "metadata": {},
   "outputs": [],
   "source": [
    "f_0=1e9       # Hz- carrier frequency\n",
    "T=10*1e-9     # s - duration of one bit during transmission in seconds\n",
    "\n",
    "Ts=1/(4*f_0)  # s - sampling period in seconds - high sampling rate for visualization purposes\n",
    "\n",
    "# generate some random data\n",
    "bits = np.random.binomial(n=1, p=0.5, size=512)\n",
    "\n",
    "print('Number of bits : {} , the first 4 bits: {}'.format(len(bits),bits[0:4]))"
   ]
  },
  {
   "cell_type": "markdown",
   "metadata": {},
   "source": [
    "The simplest modulation we used is on-off keying where the sinusoidal signal is multiplied with the bit values. It is a form of amplitude modulation."
   ]
  },
  {
   "cell_type": "code",
   "execution_count": null,
   "metadata": {},
   "outputs": [],
   "source": [
    "# generate the modulated signal\n",
    "s_AM = lambda t: bits[np.floor_divide(t,T).astype('int')]*np.cos(2*np.pi*f_0*t)\n",
    "\n",
    "# show the first 4 bits\n",
    "t=np.arange(0,4*T,Ts)\n",
    "plt.plot(t*1e9,s_AM(t))\n",
    "plt.xlabel('Time[ns]')\n",
    "plt.title('Amplitude modualtion - the first 4 bits: {}'.format(bits[0:4]))\n",
    "plt.show()\n",
    "\n",
    "print('Communcation speed: {} Mbits/s'.format(1e-6/T))"
   ]
  },
  {
   "cell_type": "markdown",
   "metadata": {},
   "source": [
    "Lets look now how this signal looks in the frequency domain:"
   ]
  },
  {
   "cell_type": "code",
   "execution_count": null,
   "metadata": {},
   "outputs": [],
   "source": [
    "def pplotF(s,Ts,T='',f_0=''):\n",
    "    \n",
    "    Ns = len(s)\n",
    "    S  = np.fft.fft(s)\n",
    "    P  = (2.0/Ns * np.abs(S[0:Ns//2]))**2\n",
    "\n",
    "    plt.plot(np.linspace(0.0, 1.0/(2.0*Ts), Ns//2)/1e6, P)\n",
    "    plt.grid()\n",
    "    plt.xlabel('MHz')\n",
    "    plt.title('Signal power in the frequency domain')\n",
    "    if T:\n",
    "        plt.gca().add_patch(patches.Rectangle([(f_0-0.5/T)/1e6,0],(1/T)/1e6,max(P),color='r',alpha=0.5))\n",
    "    plt.show()\n",
    "\n",
    "pplotF(s_AM(np.arange(0,len(bits)*T,Ts)),Ts,T,f_0)"
   ]
  },
  {
   "cell_type": "markdown",
   "metadata": {},
   "source": [
    "## Amplitude and Phase Modulation\n",
    "\n",
    "For the typical sinusoidal signals, the infomation can be embedded in the amplitude and the phase. \n",
    "\n",
    "$$ A(t)\\sin(phase(t)) $$ \n",
    "\n",
    "Lets first try the previous example but now with phase modulation where we shift the phase by $\\pi$ for every bit. This is also known as binary phase shift keying modulation (BPSK)."
   ]
  },
  {
   "cell_type": "code",
   "execution_count": null,
   "metadata": {},
   "outputs": [],
   "source": [
    "# phase modulation\n",
    "s_PM = lambda t: np.cos(2*np.pi*f_0*t + np.pi*bits[np.floor_divide(t,T).astype('int')])\n",
    "\n",
    "# show the first 4 bits\n",
    "t=np.arange(0,4*T,Ts)\n",
    "plt.plot(t*1e9,s_PM(t))\n",
    "plt.xlabel('Time[ns]')\n",
    "plt.title('Phase modualtion - the first 4 bits: {}'.format(bits[0:4]))\n",
    "plt.show()"
   ]
  },
  {
   "cell_type": "markdown",
   "metadata": {},
   "source": [
    "Lets look now how this signal looks in the frequency domain:"
   ]
  },
  {
   "cell_type": "code",
   "execution_count": null,
   "metadata": {},
   "outputs": [],
   "source": [
    "pplotF(s_PM(np.arange(0,len(bits)*T,Ts)),Ts,T,f_0)"
   ]
  },
  {
   "cell_type": "markdown",
   "metadata": {},
   "source": [
    "The comunication speed depends on the duration of a bit $T$ in the modulated signal. The frequency bandwidth needed for certain comunication speed will be proportional to the communication speed. Higher speed leads to short bits and that will require wider set of frequencies to be present in the signal. To illustrate this we construct now a 4 times faster phase modulated signal and show the signal spectrum. "
   ]
  },
  {
   "cell_type": "code",
   "execution_count": null,
   "metadata": {},
   "outputs": [],
   "source": [
    "T_faster=T/4\n",
    "s_PM_faster = lambda t: np.cos(2*np.pi*f_0*t + np.pi*bits[np.floor_divide(t,T_faster).astype('int')])\n",
    "\n",
    "pplotF(s_PM_faster(np.arange(0,len(bits)*T_faster,Ts)),Ts,T_faster,f_0)"
   ]
  },
  {
   "cell_type": "markdown",
   "metadata": {},
   "source": [
    "# Quadrature Amplitude Modulation\n",
    "\n",
    "We can think of more complex modulation schemes where we change the phase and the amplitude of the signal. Since phase and amplitude are very different, a practical represetnation is to use the IQ form:\n",
    "\n",
    "$$ I(t)\\cos(2\\pi f_0 t) + Q(t)\\sin(2\\pi f_0 t) $$\n",
    "\n",
    "The capital letter I represents the amplitude of the in-phase signal, and the capital letter Q represents the amplitude of the quadrature signal. \n",
    "\n",
    "Furthermore a pair $(I,Q)$ is typically represented as a single complex number.\n",
    "\n",
    "Finally, this is also how the typical IQ transmiiter and recever are realized in analog electronics.\n",
    "\n",
    "The transmitter could be realised by mixing I and Q signals like this:\n",
    "\n",
    "![alt_text](images/QTX.svg)\n",
    "\n",
    "At the receiver we can extract the analog I and Q signals in the similar way:\n",
    "\n",
    "![alt_text](images/QRX.svg)\n"
   ]
  },
  {
   "cell_type": "markdown",
   "metadata": {},
   "source": [
    "If we consider now the ambilitudes of the I and Q signals as cooridinates in a 2D space, we can generate many complex modulation schemes. The most typical are dividing the space into equidistant grid, e.g. QPSK, QAM16, QAM64, ... \n",
    "\n",
    "Modulation schemes having more than 2 states will introduce the concept of a symbol where a number of bits are grouped into a symbol. Here is an example QAM scheme:"
   ]
  },
  {
   "cell_type": "code",
   "execution_count": null,
   "metadata": {},
   "outputs": [],
   "source": [
    "# QAM \n",
    "NQAM=16\n",
    "bits_per_symbol = np.floor(np.log2(NQAM)).astype(int)\n",
    "\n",
    "# serial to parallel - group the bits\n",
    "bit_groups = bits.reshape(-1,bits_per_symbol)\n",
    "# convert the bits representation to symbol index\n",
    "symbols = np.array([ int(''.join([str(bit) for bit in bit_group]),2) for bit_group in bit_groups ])\n",
    "\n",
    "print('Bits: {} , Symbols: {} , Bits per symbol: {}'.format(len(bits),symbols.shape[0],bits_per_symbol))\n",
    "print('Communcation speed: {} Msymbols/s, {} Mbits/s'.format(1e-6/T,bits_per_symbol*1e-6/T,))"
   ]
  },
  {
   "cell_type": "markdown",
   "metadata": {},
   "source": [
    "We will transmmit each symbol during the same period $T$. As now each symbol is caring information of a few bits the communication speed measured in transmitted bits is increased.\n",
    "\n",
    "Let's now create a mapping from symbol index to a complex number representing I and Q signals."
   ]
  },
  {
   "cell_type": "code",
   "execution_count": null,
   "metadata": {},
   "outputs": [],
   "source": [
    "# construct IQ lookup\n",
    "r    = np.linspace(-1, 1, np.sqrt(NQAM).astype(int))\n",
    "I, Q = np.meshgrid(r, r)\n",
    "IQ   = I.flatten()+1j*Q.flatten()\n",
    "\n",
    "# convert the symbols to complex number representation\n",
    "Symbols = IQ[symbols]\n",
    "\n",
    "# show\n",
    "plt.plot(IQ.real, IQ.imag, 'o')\n",
    "for i in range(16):\n",
    "    plt.text(IQ[i].real, IQ[i].imag, format(i, '04b'))\n",
    "plt.grid()\n",
    "plt.xlabel('I')\n",
    "plt.ylabel('Q')\n",
    "plt.show()"
   ]
  },
  {
   "cell_type": "markdown",
   "metadata": {},
   "source": [
    "A schematic of the described operations and a transmitter circuit looks like this:\n",
    "\n",
    "![alt_text](images/QAMTX.svg)\n",
    "\n",
    "And example signal can be constructed like this:"
   ]
  },
  {
   "cell_type": "code",
   "execution_count": null,
   "metadata": {},
   "outputs": [],
   "source": [
    "# QAM signal\n",
    "s_QAM = lambda t: np.real(Symbols[np.floor_divide(t,T).astype('int')] * np.exp(2j*np.pi*f_0*t))\n",
    "\n",
    "# show the first 4 symbols\n",
    "print(Symbols[0:4])\n",
    "t=np.arange(0,4*T,Ts)\n",
    "plt.plot(t*1e9,s_QAM(t))\n",
    "plt.xlabel('Time[ns]')\n",
    "plt.title('QAM modulation - the first 4 symbols')\n",
    "plt.show()"
   ]
  },
  {
   "cell_type": "markdown",
   "metadata": {},
   "source": [
    "And in the frequency domain:"
   ]
  },
  {
   "cell_type": "code",
   "execution_count": null,
   "metadata": {},
   "outputs": [],
   "source": [
    "pplotF(s_QAM(np.arange(0,len(symbols)*T,Ts)),Ts,T,f_0)"
   ]
  },
  {
   "cell_type": "markdown",
   "metadata": {},
   "source": [
    "## Orthogonal Frequency Division Multiplexing\n",
    "\n",
    "The main idea is to divide the given bandwith into set of smaller bands and then transmmit at each of sub-bands (sub-carriers) at lower speed. This gives lower speed per subcarrier but multiple symbols are transmitted simultaneously.\n",
    "\n",
    "![alt_text](images/subcarriers.svg)\n"
   ]
  },
  {
   "cell_type": "markdown",
   "metadata": {},
   "source": [
    "This might look complex to generate but there exist a simple trick to generate such signals using inverse FFT. A set of $N_subcarrier$ complex simbols is considered as a frequency domain representation. The set is then transformed to time representation using inverse FFT achieving exactly the desired effect. \n",
    "\n",
    "![alt_text](images/OFDMTX.svg)\n"
   ]
  },
  {
   "cell_type": "code",
   "execution_count": null,
   "metadata": {},
   "outputs": [],
   "source": [
    "Nsubcarriers=4\n",
    "\n",
    "# serial to parallel - group the symbols\n",
    "Symbol_groups = Symbols.reshape(-1,Nsubcarriers)\n",
    "\n",
    "# frequency to time\n",
    "SymbolOFDM = np.fft.ifft(Symbol_groups,axis=1).flatten()\n",
    "\n",
    "# OFDM signal\n",
    "s_OFDM = lambda t: np.real(SymbolsOFDM[np.floor_divide(t,T).astype('int')] * np.exp(2j*np.pi*f_0*t))\n",
    "\n",
    "# show the first 4 symbols\n",
    "print(SymbolsOFDM[0:4])\n",
    "t=np.arange(0,4*T,Ts)\n",
    "plt.plot(t*1e9,s_OFDM(t))\n",
    "plt.xlabel('Time[ns]')\n",
    "plt.title('OFDM modulation - the first 4 symbols combined and sent together')\n",
    "plt.show()"
   ]
  },
  {
   "cell_type": "code",
   "execution_count": null,
   "metadata": {},
   "outputs": [],
   "source": [
    "pplotF(s_OFDM(np.arange(0,len(symbols)*T,Ts)),Ts,T,f_0)"
   ]
  }
 ],
 "metadata": {
  "kernelspec": {
   "display_name": "Python 3",
   "language": "python",
   "name": "python3"
  },
  "language_info": {
   "codemirror_mode": {
    "name": "ipython",
    "version": 3
   },
   "file_extension": ".py",
   "mimetype": "text/x-python",
   "name": "python",
   "nbconvert_exporter": "python",
   "pygments_lexer": "ipython3",
   "version": "3.6.4"
  }
 },
 "nbformat": 4,
 "nbformat_minor": 2
}
